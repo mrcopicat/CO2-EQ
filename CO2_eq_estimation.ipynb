{
 "cells": [
  {
   "cell_type": "markdown",
   "metadata": {},
   "source": [
    "___\n",
    "### <center> CO2 Emission estimation & equivalent in : Hectares of forest, flights and train trajectories</center>\n",
    "___\n",
    "\n",
    "This notebook uses a basic interactive display to show the CO2 impact equivalent of any technology working a certain amount of time (between a start and end date) with a certain power (in kW).\n",
    "\n",
    "After specifying the values above, the display shows :\n",
    "- The number of hectares required to compensate the emitted C02 in the same period.\n",
    "- The number of flights (between Paris and Shanghai) to reach the same amount of CO2.\n",
    "- The number of train travels (between Paris and Lyon) to reach the same amount of CO2.\n",
    "\n",
    "This simulator takes into consideration the change of the *gCO2/kWh* rate through time (specificly in France) by using the public data found [HERE](https://odre.opendatasoft.com/explore/dataset/eco2mix-national-tr/information/?disjunctive.nature&dataChart=eyJxdWVyaWVzIjpbeyJjaGFydHMiOlt7InR5cGUiOiJsaW5lIiwiZnVuYyI6IlNVTSIsInlBeGlzIjoidGF1eF9jbzIiLCJjb2xvciI6IiNlYTUyNTQiLCJzY2llbnRpZmljRGlzcGxheSI6dHJ1ZX1dLCJ4QXhpcyI6ImRhdGVfaGV1cmUiLCJtYXhwb2ludHMiOjIwMCwidGltZXNjYWxlIjoibWludXRlIiwic29ydCI6IiIsImNvbmZpZyI6eyJkYXRhc2V0IjoiZWNvMm1peC1uYXRpb25hbC10ciIsIm9wdGlvbnMiOnsiZGlzanVuY3RpdmUubmF0dXJlIjp0cnVlfX19XSwidGltZXNjYWxlIjoiIiwiZGlzcGxheUxlZ2VuZCI6dHJ1ZSwiYWxpZ25Nb250aCI6dHJ1ZX0%3D).\n",
    "\n",
    "N.B : The simulation will appear at the end of the notebook after running it.\n",
    "___"
   ]
  },
  {
   "cell_type": "code",
   "execution_count": null,
   "metadata": {},
   "outputs": [],
   "source": [
    "# installing the necessary dependencies\n",
    "!sudo python3.8 -m pip install --upgrade pandas plotly ipywidgets folium geopandas"
   ]
  },
  {
   "cell_type": "code",
   "execution_count": 103,
   "metadata": {},
   "outputs": [],
   "source": [
    "# some useful imports\n",
    "from datetime import datetime\n",
    "from math import pi, sqrt\n",
    "\n",
    "import folium\n",
    "import geopandas as gpd\n",
    "import numpy as np\n",
    "import pandas as pd\n",
    "import plotly.graph_objects as go\n",
    "from ipywidgets import widgets"
   ]
  },
  {
   "cell_type": "code",
   "execution_count": 104,
   "metadata": {},
   "outputs": [],
   "source": [
    "# defining the estimation functions\n",
    "def get_num_hectares(start_date, end_date, co2_t):\n",
    "    co2_hect_day = 11.8 / 365\n",
    "    num_days = max(abs(end_date-start_date).days, 1)\n",
    "    return co2_t / (co2_hect_day * num_days )\n",
    "\n",
    "def get_num_flights_CDG_SHANG(co2_t):\n",
    "    flight_tco2 = 1.4\n",
    "    print(co2_t)\n",
    "    return int(co2_t / flight_tco2)\n",
    "\n",
    "def get_num_tgv_Paris_Lyon(co2_t):\n",
    "    tgv_tco2 = 0.76 / 1e03\n",
    "    return int(co2_t / tgv_tco2)"
   ]
  },
  {
   "cell_type": "code",
   "execution_count": 105,
   "metadata": {},
   "outputs": [],
   "source": [
    "# setting default values\n",
    "grenoble_coord = {'lon':[5.72326476215146], 'lat':[45.178485890358424]}\n",
    "\n",
    "# preparing the data\n",
    "df = pd.read_csv('data/taux_co2.csv')\n",
    "df['Date - Heure'] = pd.to_datetime(df['Date - Heure'])\n",
    "df.sort_values(by='Date - Heure', inplace=True)"
   ]
  },
  {
   "cell_type": "code",
   "execution_count": 106,
   "metadata": {},
   "outputs": [],
   "source": [
    "# Preparing graph traces\n",
    "trace1 = go.Scatter(x=df['Date - Heure'], y=(df['Taux de CO2 (g/kWh)'].cumsum() / 4) / 1e06,\n",
    "                        mode='lines', # 'lines' or 'markers'\n",
    "                        name='emission', line_color='green')\n",
    "trace2 = go.Scatter(x=df['Date - Heure'], y=df['Taux de CO2 (g/kWh)'],\n",
    "                        mode='lines', # 'lines' or 'markers'\n",
    "                        name='taux', yaxis='y2', line_color='red')\n",
    "trace_map = go.Scattermapbox(fillcolor='firebrick',\n",
    "                        lat=['45.178485890358424'],\n",
    "                        lon=['5.72326476215146'],\n",
    "                        mode='markers')"
   ]
  },
  {
   "cell_type": "code",
   "execution_count": 107,
   "metadata": {},
   "outputs": [],
   "source": [
    "\n",
    "try:\n",
    "    # setting the default map center\n",
    "    coord_df = pd.DataFrame(grenoble_coord)\n",
    "    gdf = gpd.GeoDataFrame(coord_df, geometry=gpd.points_from_xy(coord_df.lon, coord_df.lat))\n",
    "\n",
    "    # prep geometry and layouts\n",
    "    map_layout = go.Layout(title=\"Compensation par surface de foret (Ha)\")\n",
    "    map = go.FigureWidget(data=trace_map, layout=map_layout)\n",
    "\n",
    "    graph_layout = go.Layout(title=\"Estimation de l'emission CO2 et son equivalent en Hectares par puissance\",\n",
    "                        yaxis=dict(title='emission CO2 (TCO2)'),\n",
    "                        yaxis2=dict(title='taux CO2 (gCO2/kWh)',\n",
    "                        overlaying='y',\n",
    "                        side='right'))\n",
    "    graph = go.FigureWidget(data=[trace1, trace2], layout=graph_layout)\n",
    "\n",
    "\n",
    "    # updating layouts:\n",
    "    map.update_layout(\n",
    "        mapbox = {\n",
    "            'style': \"open-street-map\",\n",
    "            'center': {'lon': 5.72326476215146, 'lat': 45.178485890358424},\n",
    "            'zoom': 10},\n",
    "        showlegend = False)\n",
    "    map.update_layout(width=500)\n",
    "\n",
    "    graph.update_layout(width=1000)\n",
    "    graph.update_xaxes(\n",
    "        rangeslider_visible=True,\n",
    "        rangeselector=dict(\n",
    "            buttons=list([\n",
    "                dict(count=1, label=\"1m\", step=\"month\", stepmode=\"backward\"),\n",
    "                dict(count=3, label=\"3m\", step=\"month\", stepmode=\"backward\"),\n",
    "                dict(step=\"all\")\n",
    "            ])\n",
    "        )\n",
    "    )\n",
    "\n",
    "    # generating the first area (in m)\n",
    "    cgeo = (\n",
    "        gdf.set_crs(\"epsg:4326\")\n",
    "        .sample(1)\n",
    "        .pipe(lambda d: d.to_crs(d.estimate_utm_crs()))[\"geometry\"]\n",
    "        .centroid.buffer(1000)\n",
    "        .to_crs(\"epsg:4326\")\n",
    "        .__geo_interface__\n",
    "    )\n",
    "\n",
    "    # add circle geometry as layer to mapbox figure\n",
    "    map.update_layout(\n",
    "        mapbox={\n",
    "            \"layers\": [\n",
    "                {\"source\": cgeo, \"color\": \"PaleGreen\", \"type\": \"fill\", \"opacity\":.5},\n",
    "                {\"source\": cgeo, \"color\": \"black\", \"type\": \"line\", \"opacity\": 0.1},\n",
    "            ]\n",
    "        }\n",
    "    )\n",
    "except:\n",
    "    None"
   ]
  },
  {
   "cell_type": "code",
   "execution_count": 108,
   "metadata": {},
   "outputs": [],
   "source": [
    "# setting the dynamic widgets\n",
    "power_value = widgets.FloatText(\n",
    "            description='Power (kW):',\n",
    "            disabled=False\n",
    "        )\n",
    "\n",
    "start_date = widgets.DatePicker(\n",
    "            value = min(df['Date - Heure']),\n",
    "            description='Start Date',\n",
    "            disabled=False\n",
    "        )\n",
    "\n",
    "end_date = widgets.DatePicker(\n",
    "            value = max(df['Date - Heure']),\n",
    "            description='End Date',\n",
    "            disabled=False\n",
    "        )"
   ]
  },
  {
   "cell_type": "code",
   "execution_count": 109,
   "metadata": {},
   "outputs": [],
   "source": [
    "# setting response widgets\n",
    "p_file = open(\"plane.png\", \"rb\")\n",
    "img_plane = widgets.Image(\n",
    "            value=p_file.read(),\n",
    "            format='png',\n",
    "            width=40,\n",
    "            height=40\n",
    "        )\n",
    "par_shang_est = widgets.FloatText(\n",
    "            description='(PAR-SHANG)',\n",
    "            disabled=False\n",
    "        )\n",
    "\n",
    "t_file = open(\"train.png\", \"rb\")\n",
    "img_train = widgets.Image(\n",
    "            value=t_file.read(),\n",
    "            format='png',\n",
    "            width=40,\n",
    "            height=40\n",
    "        )\n",
    "tgv_par_lys_est = widgets.FloatText(\n",
    "            description='(Lyon-Paris)',\n",
    "            disabled=False\n",
    "        )\n",
    "\n",
    "p_file.close()\n",
    "t_file.close()"
   ]
  },
  {
   "cell_type": "code",
   "execution_count": 110,
   "metadata": {},
   "outputs": [],
   "source": [
    "# update functions\n",
    "def validate():\n",
    "    if power_value.value  > 0:\n",
    "        return True\n",
    "    else:\n",
    "        return False\n",
    "\n",
    "def response(change):\n",
    "    if validate():\n",
    "        # filter by date\n",
    "        tmp_df = df[(df['Date - Heure'] >= str(start_date.value)) & (df['Date - Heure'] <= str(end_date.value))]\n",
    "\n",
    "        # update the estimation values:\n",
    "        co2_t = max(tmp_df['Taux de CO2 (g/kWh)'].cumsum() * power_value.value / 4) / 1e06\n",
    "        s_h = get_num_hectares(start_date.value, end_date.value, co2_t)\n",
    "        r_m2 = sqrt((s_h * 1e04) / pi)\n",
    "\n",
    "        # getting the train/plane equivalents\n",
    "        num_train = get_num_tgv_Paris_Lyon(co2_t)\n",
    "        num_plane = get_num_flights_CDG_SHANG(co2_t)\n",
    "        tgv_par_lys_est.value = num_train\n",
    "        par_shang_est.value = num_plane\n",
    "\n",
    "        # update the graph\n",
    "        with graph.batch_update():\n",
    "            graph.data[0].x = tmp_df['Date - Heure']\n",
    "            graph.data[1].x = tmp_df['Date - Heure']\n",
    "            graph.data[0].y = (tmp_df['Taux de CO2 (g/kWh)'].cumsum() * power_value.value / 4) / 1e06\n",
    "            graph.data[1].y = tmp_df['Taux de CO2 (g/kWh)']\n",
    "\n",
    "        # update the map\n",
    "        with map.batch_update():\n",
    "            ncgeo = (\n",
    "                gdf.set_crs(\"epsg:4326\")\n",
    "                .sample(1)\n",
    "                .pipe(lambda d: d.to_crs(d.estimate_utm_crs()))[\"geometry\"]\n",
    "                .centroid.buffer(r_m2)\n",
    "                .to_crs(\"epsg:4326\")\n",
    "                .__geo_interface__\n",
    "            )\n",
    "            map.update_layout(\n",
    "                mapbox={\n",
    "                    \"layers\": [\n",
    "                        {\"source\": ncgeo, \"color\": \"PaleGreen\", \"type\": \"fill\", \"opacity\":.5},\n",
    "                        {\"source\": ncgeo, \"color\": \"black\", \"type\": \"line\", \"opacity\": 0.1},\n",
    "                    ]\n",
    "                }\n",
    "            )\n",
    "            map.data[0].text = f\"{int(s_h)} Hectares of forest needed\"\n",
    "\n",
    "# opserve if any change occurs\n",
    "power_value.observe(response, names=\"value\")\n",
    "start_date.observe(response, names=\"value\")\n",
    "end_date.observe(response, names=\"value\")"
   ]
  },
  {
   "cell_type": "code",
   "execution_count": 111,
   "metadata": {},
   "outputs": [
    {
     "data": {
      "application/vnd.jupyter.widget-view+json": {
       "model_id": "9abcfc1b1b64438490555d6c01a6ee86",
       "version_major": 2,
       "version_minor": 0
      },
      "text/plain": [
       "VBox(children=(HBox(children=(FloatText(value=0.0, description='Power (kW):'), DatePicker(value=Timestamp('202…"
      ]
     },
     "execution_count": 111,
     "metadata": {},
     "output_type": "execute_result"
    }
   ],
   "source": [
    "# setting containers and displaying the data\n",
    "container1 = widgets.HBox([power_value, start_date, end_date])\n",
    "container2 = widgets.HBox([img_plane, par_shang_est, img_train, tgv_par_lys_est])\n",
    "container3 = widgets.HBox([graph, map])\n",
    "widgets.VBox([container1, container2, container3])"
   ]
  }
 ],
 "metadata": {
  "kernelspec": {
   "display_name": "Python 3.8.10 64-bit",
   "language": "python",
   "name": "python3"
  },
  "language_info": {
   "codemirror_mode": {
    "name": "ipython",
    "version": 3
   },
   "file_extension": ".py",
   "mimetype": "text/x-python",
   "name": "python",
   "nbconvert_exporter": "python",
   "pygments_lexer": "ipython3",
   "version": "3.8.10"
  },
  "orig_nbformat": 4,
  "vscode": {
   "interpreter": {
    "hash": "0adcc2737ebf6a4a119f135174df96668767fca1ef1112612db5ecadf2b6d608"
   }
  }
 },
 "nbformat": 4,
 "nbformat_minor": 2
}
